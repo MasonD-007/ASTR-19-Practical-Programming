{
 "cells": [
  {
   "cell_type": "markdown",
   "metadata": {},
   "source": [
    "Create a Jupyter Notebook where, in separate cells, you define functions that return sin(x) and cos(x).  \n",
    "\n",
    "Use Markdown cells to comment your Notebook, and describe what each function does. \n",
    "\n",
    "Create a third Python cell that will tabulate sin(x) and cos(x) using these previously defined functions vs. x, where x is tabulated between 0 and 2 with a thousand entries. \n",
    "\n",
    "Write a fourth Python cell that will use a for loop to print out the first 10 values of x, sin(x), and cos(x) in columns."
   ]
  },
  {
   "cell_type": "markdown",
   "metadata": {},
   "source": [
    "This code imports math library as m, numpy as np, and matplotlib sub pyplot as plt"
   ]
  },
  {
   "cell_type": "code",
   "execution_count": 1,
   "metadata": {},
   "outputs": [],
   "source": [
    "import math as m\n",
    "import numpy as np\n",
    "import matplotlib.pyplot as plt"
   ]
  },
  {
   "cell_type": "markdown",
   "metadata": {},
   "source": [
    "this takes the function "
   ]
  },
  {
   "cell_type": "code",
   "execution_count": 6,
   "metadata": {},
   "outputs": [],
   "source": [
    "def sin_x(x):\n",
    "    return m.sin(x)\n",
    "\n",
    "def cos_x(x):\n",
    "    return m.cos(x)"
   ]
  },
  {
   "cell_type": "code",
   "execution_count": 9,
   "metadata": {},
   "outputs": [
    {
     "ename": "TypeError",
     "evalue": "only length-1 arrays can be converted to Python scalars",
     "output_type": "error",
     "traceback": [
      "\u001b[0;31m---------------------------------------------------------------------------\u001b[0m",
      "\u001b[0;31mTypeError\u001b[0m                                 Traceback (most recent call last)",
      "\u001b[1;32m/Applications/!Classes/ASTR 19/Session_6_Prompt.ipynb Cell 6\u001b[0m line \u001b[0;36m3\n\u001b[1;32m      <a href='vscode-notebook-cell:/Applications/%21Classes/ASTR%2019/Session_6_Prompt.ipynb#W5sZmlsZQ%3D%3D?line=0'>1</a>\u001b[0m x \u001b[39m=\u001b[39m np\u001b[39m.\u001b[39mlinspace(\u001b[39m0\u001b[39m, \u001b[39m2\u001b[39m\u001b[39m*\u001b[39mm\u001b[39m.\u001b[39mpi, \u001b[39m1000\u001b[39m)\n\u001b[0;32m----> <a href='vscode-notebook-cell:/Applications/%21Classes/ASTR%2019/Session_6_Prompt.ipynb#W5sZmlsZQ%3D%3D?line=2'>3</a>\u001b[0m plt\u001b[39m.\u001b[39mplot(x, m\u001b[39m.\u001b[39;49msin(x), label\u001b[39m=\u001b[39m\u001b[39m'\u001b[39m\u001b[39msin(x)\u001b[39m\u001b[39m'\u001b[39m)\n\u001b[1;32m      <a href='vscode-notebook-cell:/Applications/%21Classes/ASTR%2019/Session_6_Prompt.ipynb#W5sZmlsZQ%3D%3D?line=3'>4</a>\u001b[0m plt\u001b[39m.\u001b[39mplot(x, m\u001b[39m.\u001b[39mcos(x), label\u001b[39m=\u001b[39m\u001b[39m'\u001b[39m\u001b[39mcos(x)\u001b[39m\u001b[39m'\u001b[39m)\n\u001b[1;32m      <a href='vscode-notebook-cell:/Applications/%21Classes/ASTR%2019/Session_6_Prompt.ipynb#W5sZmlsZQ%3D%3D?line=4'>5</a>\u001b[0m plt\u001b[39m.\u001b[39mlegend()\n",
      "\u001b[0;31mTypeError\u001b[0m: only length-1 arrays can be converted to Python scalars"
     ]
    }
   ],
   "source": [
    "x = np.linspace(0, 2*m.pi, 1000)\n",
    "\n",
    "plt.plot(x, sin_x(x), label='sin(x)')\n",
    "plt.plot(x, cos_x(x), label='cos(x)')\n",
    "plt.legend()\n",
    "plt.show()"
   ]
  },
  {
   "cell_type": "code",
   "execution_count": 4,
   "metadata": {},
   "outputs": [
    {
     "name": "stdout",
     "output_type": "stream",
     "text": [
      "0.00\t 0.00\t 1.00\n",
      "1.00\t 0.84\t 0.54\n",
      "2.00\t 0.91\t -0.42\n",
      "3.00\t 0.14\t -0.99\n",
      "4.00\t -0.76\t -0.65\n",
      "5.00\t -0.96\t 0.28\n",
      "6.00\t -0.28\t 0.96\n",
      "7.00\t 0.66\t 0.75\n",
      "8.00\t 0.99\t -0.15\n",
      "9.00\t 0.41\t -0.91\n",
      "10.00\t -0.54\t -0.84\n"
     ]
    }
   ],
   "source": [
    "for i in range(11):\n",
    "    sin_x = np.sin(i)\n",
    "    cos_x = np.cos(i)\n",
    "    print(f\"{i:.2f}\\t {sin_x:.2f}\\t {cos_x:.2f}\")"
   ]
  }
 ],
 "metadata": {
  "kernelspec": {
   "display_name": ".venv",
   "language": "python",
   "name": "python3"
  },
  "language_info": {
   "codemirror_mode": {
    "name": "ipython",
    "version": 3
   },
   "file_extension": ".py",
   "mimetype": "text/x-python",
   "name": "python",
   "nbconvert_exporter": "python",
   "pygments_lexer": "ipython3",
   "version": "3.11.5"
  },
  "orig_nbformat": 4
 },
 "nbformat": 4,
 "nbformat_minor": 2
}
