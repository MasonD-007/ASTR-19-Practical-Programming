{
 "cells": [
  {
   "cell_type": "markdown",
   "metadata": {},
   "source": [
    "Write cells that create an array x ranging from [0,1] in 100 steps and that defines a function that returns exp(x).  In a new cell use the function to set y=exp(x), and then plot x vs. y. Label the x-axis as “Time [milliseconds]” and the y-axis as “Awesomeness”. Save the figure as a PDF. "
   ]
  },
  {
   "cell_type": "code",
   "execution_count": null,
   "metadata": {},
   "outputs": [],
   "source": []
  }
 ],
 "metadata": {
  "language_info": {
   "name": "python"
  },
  "orig_nbformat": 4
 },
 "nbformat": 4,
 "nbformat_minor": 2
}
